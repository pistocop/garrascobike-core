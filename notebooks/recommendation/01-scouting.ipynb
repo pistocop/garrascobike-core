{
 "cells": [
  {
   "cell_type": "markdown",
   "metadata": {},
   "source": [
    "# Recommendation system"
   ]
  },
  {
   "cell_type": "markdown",
   "metadata": {},
   "source": [
    "## Load the data\n",
    "- We don't specify category data on load because it double the df dimension\n",
    "    - Load with dtype category = 4_209_304, load without using dtype category = 2_928_976 \n",
    "    - Is not worthwhile cast the data to _category_ because it will give to us (either after the string normalization) to a bigger dataset"
   ]
  },
  {
   "cell_type": "code",
   "execution_count": 1,
   "metadata": {
    "_cell_guid": "b1076dfc-b9ad-4769-8c92-a6c4dae69d19",
    "_uuid": "8f2839f25d086af736a60e9eeb907d3b93b6e0e5",
    "tags": []
   },
   "outputs": [
    {
     "name": "stdout",
     "output_type": "stream",
     "text": [
      "Dataset size:2928976\n"
     ]
    },
    {
     "data": {
      "text/html": [
       "<div>\n",
       "<style scoped>\n",
       "    .dataframe tbody tr th:only-of-type {\n",
       "        vertical-align: middle;\n",
       "    }\n",
       "\n",
       "    .dataframe tbody tr th {\n",
       "        vertical-align: top;\n",
       "    }\n",
       "\n",
       "    .dataframe thead th {\n",
       "        text-align: right;\n",
       "    }\n",
       "</style>\n",
       "<table border=\"1\" class=\"dataframe\">\n",
       "  <thead>\n",
       "    <tr style=\"text-align: right;\">\n",
       "      <th></th>\n",
       "      <th>thread_id</th>\n",
       "      <th>product_name</th>\n",
       "    </tr>\n",
       "  </thead>\n",
       "  <tbody>\n",
       "    <tr>\n",
       "      <th>0</th>\n",
       "      <td>e9molz</td>\n",
       "      <td>110</td>\n",
       "    </tr>\n",
       "    <tr>\n",
       "      <th>1</th>\n",
       "      <td>e9d9z1</td>\n",
       "      <td>Ibis Ripmo AF</td>\n",
       "    </tr>\n",
       "    <tr>\n",
       "      <th>2</th>\n",
       "      <td>e9as86</td>\n",
       "      <td>Airstream 2</td>\n",
       "    </tr>\n",
       "  </tbody>\n",
       "</table>\n",
       "</div>"
      ],
      "text/plain": [
       "  thread_id   product_name\n",
       "0    e9molz            110\n",
       "1    e9d9z1  Ibis Ripmo AF\n",
       "2    e9as86    Airstream 2"
      ]
     },
     "execution_count": 1,
     "metadata": {},
     "output_type": "execute_result"
    }
   ],
   "source": [
    "import pandas as pd\n",
    "\n",
    "df_raw = pd.read_csv('../../data/03_correlation_data/presence_dataset/20210331124802/presences.csv')\n",
    "df = df_raw.copy()\n",
    "print(f\"Dataset size:{df.memory_usage(index=True).sum()}\") # dtype category = 4_209_304 | no dtype category = 2_928_976 \n",
    "df_raw.head(3)"
   ]
  },
  {
   "cell_type": "code",
   "execution_count": 2,
   "metadata": {
    "tags": []
   },
   "outputs": [
    {
     "name": "stdout",
     "output_type": "stream",
     "text": [
      "Normalization product dimension: 40168\n",
      "Digits cleaning product dimension: 39727\n",
      "2-words product dimension: 10691\n",
      "Dataset len: 115237, columns:{'product_name', 'thread_id'}\n",
      "Unique threads:27577\n",
      "Unique products:10691\n",
      "Utility matrix - shape predicted:(27577, 10691)\n"
     ]
    }
   ],
   "source": [
    "###\n",
    "# Data cleaning\n",
    "###\n",
    "\n",
    "# String normalization\n",
    "df['product_name'] = df['product_name'].str.casefold()\n",
    "df['product_name'] = df['product_name'].str.strip()\n",
    "print(f\"Normalization product dimension: {len(df['product_name'].unique())}\")\n",
    "\n",
    "# Remove all products with all number on the name\n",
    "def has_numbers(inputString):\n",
    "    return all(char.isdigit() for char in inputString)\n",
    "df['name_with_digits'] = df['product_name'].apply(has_numbers)\n",
    "df = df[df[\"name_with_digits\"] == False]\n",
    "df = df.drop(\"name_with_digits\", 1)\n",
    "print(f\"Digits cleaning product dimension: {len(df['product_name'].unique())}\")\n",
    "\n",
    "# Remove all products with more than 2 words\n",
    "df = df[df['product_name'].str.split().str.len().lt(2)]\n",
    "print(f\"2-words product dimension: {len(df['product_name'].unique())}\")\n",
    "\n",
    "###\n",
    "# Metadata calculation\n",
    "###\n",
    "\n",
    "# Extract threads and products info\n",
    "threads_unique = df['thread_id'].unique()\n",
    "products_unique = df['product_name'].unique()\n",
    "util_mtx_dimension = (len(threads_unique), len(products_unique))\n",
    "\n",
    "print(f\"Dataset len: {len(df)}, columns:{set(df.columns)}\")\n",
    "print(f\"Unique threads:{len(threads_unique)}\")\n",
    "print(f\"Unique products:{len(products_unique)}\")\n",
    "print(f\"Utility matrix - shape predicted:{util_mtx_dimension}\")\n",
    "\n",
    "if util_mtx_dimension[1] > util_mtx_dimension[0]:\n",
    "    print(\"[INFO] There are more products than threads\")"
   ]
  },
  {
   "cell_type": "markdown",
   "metadata": {},
   "source": [
    "# Garrascobike _Utility Matrix_"
   ]
  },
  {
   "cell_type": "markdown",
   "metadata": {},
   "source": [
    "**Step 1: matrix transformation**\n",
    "- Create a matrix of dimension \\[threads x products\\]\n",
    "\n",
    "**Note**\n",
    "- Solution with sparse matrix from https://stackoverflow.com/a/57373497/15619275\n",
    "- Other solution that give OOM:\n",
    "    - ``` python\n",
    "    # High memory usage here\n",
    "    # [!] tricky point\n",
    "    # https://stackoverflow.com/a/49035929\n",
    "    df_tmp = df_presence.join(pd.get_dummies(df_presence['product_name'].apply(pd.Series).stack(), sparse=True).sum(level=0)).drop('product_name', 1)\n",
    "    ```"
   ]
  },
  {
   "cell_type": "code",
   "execution_count": 3,
   "metadata": {
    "tags": []
   },
   "outputs": [
    {
     "name": "stdout",
     "output_type": "stream",
     "text": [
      "Utility matrix shape:(27577, 10691)[threads, products]\n",
      "Utility matrix structure:\n"
     ]
    },
    {
     "data": {
      "text/plain": [
       "matrix([[5., 0., 0., ..., 0., 0., 0.],\n",
       "        [0., 2., 0., ..., 0., 0., 0.],\n",
       "        [0., 0., 1., ..., 0., 0., 0.]])"
      ]
     },
     "execution_count": 3,
     "metadata": {},
     "output_type": "execute_result"
    }
   ],
   "source": [
    "import numpy as np\n",
    "from scipy.sparse import csr_matrix\n",
    "from bidict import bidict\n",
    "\n",
    "# Build the indexer mapper\n",
    "thread2int = bidict({u:i for i, u in enumerate(df[\"thread_id\"].unique())})\n",
    "product2int = bidict({m:i for i, m in enumerate(df[\"product_name\"].unique())})\n",
    "\n",
    "# Map text to index\n",
    "threadsidx = [thread2int[u] for u in df[\"thread_id\"]]\n",
    "productsidx = [product2int[m] for m in df[\"product_name\"]]\n",
    "\n",
    "# Create matrix with 1 values [1,1,1,1,...[len(threads)]]\n",
    "data = np.ones(len(threadsidx), )\n",
    "\n",
    "# Create the utility matrix - sparse matrix [len(threads), len(products)]\n",
    "utility_matrix = csr_matrix((data, (threadsidx, productsidx)))\n",
    "assert utility_matrix.shape == util_mtx_dimension, f\"A_sparse have a wrong dimension, expected:{util_mtx_dimension}\"\n",
    "\n",
    "print(f\"Utility matrix shape:{utility_matrix.get_shape()}[threads, products]\")\n",
    "print(\"Utility matrix structure:\")\n",
    "utility_matrix.todense()[:3]"
   ]
  },
  {
   "cell_type": "markdown",
   "metadata": {},
   "source": [
    "-------\n",
    "# Recommendation"
   ]
  },
  {
   "cell_type": "markdown",
   "metadata": {},
   "source": [
    "## Matrix factorization\n",
    "**Notes**:\n",
    "- Approach _collaborative filtering_\n",
    "    - The collaborative filtering problem can be solved using _matrix factorization_.\n",
    "- ~Code and approach from [Tensorflow website](https://www.tensorflow.org/recommenders/examples/quickstart)~\n",
    "- Code and approach from [pluralsight](https://www.pluralsight.com/guides/building-a-recommendation-engine-with-tensorflow)"
   ]
  },
  {
   "cell_type": "code",
   "execution_count": 4,
   "metadata": {
    "tags": []
   },
   "outputs": [
    {
     "name": "stdout",
     "output_type": "stream",
     "text": [
      "WARNING:tensorflow:From /home/pistocop/github/garrascobike-core/.env/lib/python3.9/site-packages/tensorflow/python/compat/v2_compat.py:96: disable_resource_variables (from tensorflow.python.ops.variable_scope) is deprecated and will be removed in a future version.\n",
      "Instructions for updating:\n",
      "non-resource variables are not supported in the long term\n"
     ]
    }
   ],
   "source": [
    "import tensorflow.compat.v1 as tf\n",
    "\n",
    "tf.disable_v2_behavior()\n",
    "K = 2\n",
    "R = utility_matrix"
   ]
  },
  {
   "cell_type": "code",
   "execution_count": 5,
   "metadata": {
    "tags": []
   },
   "outputs": [],
   "source": [
    "ratings = utility_matrix\n",
    "N = util_mtx_dimension[0]\n",
    "M = util_mtx_dimension[1]\n",
    "P = np.random.rand(N, K)\n",
    "Q = np.random.rand(M, K)\n",
    "ratings = tf.placeholder(tf.float32, name=\"ratings\")\n",
    "P_matrix = tf.Variable(P, dtype=tf.float32)\n",
    "Q_matrix = tf.Variable(Q, dtype=tf.float32)\n",
    "P_times_Q = tf.matmul(P_matrix, Q_matrix, transpose_b=True)\n",
    "squared_error = tf.square(P_times_Q - ratings)\n",
    "loss = tf.reduce_sum(squared_error)"
   ]
  },
  {
   "cell_type": "code",
   "execution_count": 6,
   "metadata": {
    "tags": []
   },
   "outputs": [],
   "source": [
    "optimizer = tf.train.GradientDescentOptimizer(0.01)\n",
    "predict = optimizer.minimize(loss)"
   ]
  },
  {
   "cell_type": "code",
   "execution_count": 7,
   "metadata": {},
   "outputs": [],
   "source": [
    "# TODO: complete the TF section"
   ]
  },
  {
   "cell_type": "markdown",
   "metadata": {},
   "source": [
    "--------------"
   ]
  },
  {
   "cell_type": "markdown",
   "metadata": {},
   "source": [
    "# NN solution\n",
    "> Solution from: https://www.analyticsvidhya.com/blog/2020/11/create-your-own-movie-movie-recommendation-system/\n"
   ]
  },
  {
   "cell_type": "code",
   "execution_count": 8,
   "metadata": {
    "tags": []
   },
   "outputs": [],
   "source": [
    "from sklearn.neighbors import NearestNeighbors\n",
    "knn = NearestNeighbors(metric='cosine', algorithm='brute', n_neighbors=20, n_jobs=-1)"
   ]
  },
  {
   "cell_type": "code",
   "execution_count": 9,
   "metadata": {
    "tags": []
   },
   "outputs": [
    {
     "name": "stdout",
     "output_type": "stream",
     "text": [
      "(27577, 10691)\n"
     ]
    },
    {
     "data": {
      "text/plain": [
       "NearestNeighbors(algorithm='brute', metric='cosine', n_jobs=-1, n_neighbors=20)"
      ]
     },
     "execution_count": 9,
     "metadata": {},
     "output_type": "execute_result"
    }
   ],
   "source": [
    "print(utility_matrix.shape)\n",
    "knn.fit(utility_matrix)"
   ]
  },
  {
   "cell_type": "code",
   "execution_count": 10,
   "metadata": {
    "tags": []
   },
   "outputs": [
    {
     "data": {
      "text/plain": [
       "(list, list, bidict.bidict, bidict.bidict)"
      ]
     },
     "execution_count": 10,
     "metadata": {},
     "output_type": "execute_result"
    }
   ],
   "source": [
    "type(threadsidx), type(productsidx), type(thread2int), type(product2int)"
   ]
  },
  {
   "cell_type": "code",
   "execution_count": 11,
   "metadata": {
    "tags": []
   },
   "outputs": [
    {
     "data": {
      "text/plain": [
       "48"
      ]
     },
     "execution_count": 11,
     "metadata": {},
     "output_type": "execute_result"
    }
   ],
   "source": [
    "product2int[\"stoic\"]"
   ]
  },
  {
   "cell_type": "code",
   "execution_count": 12,
   "metadata": {
    "tags": []
   },
   "outputs": [],
   "source": [
    "distances, indices = knn.kneighbors(utility_matrix[119], n_neighbors=10+1)"
   ]
  },
  {
   "cell_type": "code",
   "execution_count": 13,
   "metadata": {
    "tags": []
   },
   "outputs": [
    {
     "data": {
      "text/plain": [
       "(array([[0.        , 0.09546597, 0.09546597, 0.09546597, 0.5801089 ,\n",
       "         0.63072553, 0.69848866, 0.69848866, 0.69848866, 0.69848866,\n",
       "         0.69848866]]),\n",
       " array([[  119, 13803, 15481, 13555,  1578,    84, 15954,  5785, 27274,\n",
       "         22053,  5816]]))"
      ]
     },
     "execution_count": 13,
     "metadata": {},
     "output_type": "execute_result"
    }
   ],
   "source": [
    "distances, indices"
   ]
  },
  {
   "cell_type": "code",
   "execution_count": 14,
   "metadata": {
    "tags": []
   },
   "outputs": [
    {
     "name": "stdout",
     "output_type": "stream",
     "text": [
      "Searching 'stoic' - id:48\n",
      "dis:0.0, idx:15864, bike suggested:hl4v4b\n",
      "dis:0.0, idx:11800, bike suggested:j8lnhm\n",
      "dis:0.0, idx:10100, bike suggested:iiyw9l\n",
      "dis:0.0, idx:12294, bike suggested:hdsml1\n",
      "dis:0.0, idx:25987, bike suggested:hwseo9\n",
      "dis:0.0, idx:14635, bike suggested:deehk2\n",
      "dis:0.0, idx:23736, bike suggested:iqf018\n",
      "dis:0.0, idx:11782, bike suggested:j9hc58\n",
      "dis:0.0, idx:9278, bike suggested:j0e8ss\n",
      "dis:0.0, idx:13620, bike suggested:frfovb\n",
      "dis:0.0, idx:13122, bike suggested:i8d5p7\n"
     ]
    }
   ],
   "source": [
    "def get_bike_recommendation(bike_name):\n",
    "    neighbors = 10\n",
    "    bike_id = product2int.get(bike_name,None)\n",
    "    \n",
    "    if not bike_id:\n",
    "        print(f\"Bike {bike_name} not found\")\n",
    "        pass\n",
    "    print(f\"Searching '{bike_name}' - id:{bike_id}\")\n",
    "    \n",
    "    distances, indices = knn.kneighbors(utility_matrix[bike_id],n_neighbors=neighbors+1)\n",
    "    distances, indices = distances.tolist().pop(), indices.tolist().pop()\n",
    "    \n",
    "    for dis, idx in zip(distances, indices):\n",
    "#         bike_name = list(product2int.keys())[list(product2int.values()).index(idx)]\n",
    "        bike_name = thread2int.inverse[idx]\n",
    "        print(f\"dis:{dis}, idx:{idx}, bike suggested:{bike_name}\")\n",
    "        \n",
    "get_bike_recommendation(\"stoic\")"
   ]
  },
  {
   "cell_type": "code",
   "execution_count": 15,
   "metadata": {},
   "outputs": [
    {
     "data": {
      "text/plain": [
       "<matplotlib.lines.Line2D at 0x7f60318fefd0>"
      ]
     },
     "execution_count": 15,
     "metadata": {},
     "output_type": "execute_result"
    },
    {
     "data": {
      "image/png": "[encoded data removed]",
      "text/plain": [
       "<Figure size 432x288 with 1 Axes>"
      ]
     },
     "metadata": {
      "needs_background": "light"
     },
     "output_type": "display_data"
    }
   ],
   "source": [
    "# Plot\n",
    "import matplotlib.pylab as plt\n",
    "\n",
    "plt.spy(utility_matrix, markersize=1)"
   ]
  },
  {
   "cell_type": "code",
   "execution_count": 45,
   "metadata": {},
   "outputs": [
    {
     "data": {
      "text/plain": [
       "matrix([[0.        , 0.        , 0.        , 0.        , 0.        ,\n",
       "         0.        , 0.        , 0.        , 0.        , 0.        ],\n",
       "        [0.        , 0.        , 0.        , 0.        , 0.        ,\n",
       "         0.        , 0.        , 0.        , 0.        , 0.        ],\n",
       "        [0.        , 0.        , 0.        , 0.        , 0.        ,\n",
       "         0.        , 0.        , 0.        , 0.        , 0.        ],\n",
       "        [0.        , 0.        , 0.        , 0.        , 0.        ,\n",
       "         0.        , 0.        , 0.        , 0.        , 0.        ],\n",
       "        [0.        , 0.        , 0.        , 0.        , 0.        ,\n",
       "         0.        , 0.        , 0.        , 0.        , 0.        ],\n",
       "        [0.        , 0.        , 0.        , 0.        , 0.        ,\n",
       "         0.        , 0.        , 0.        , 0.        , 0.        ],\n",
       "        [0.        , 0.        , 0.        , 0.        , 0.        ,\n",
       "         0.        , 0.        , 0.        , 0.        , 0.        ],\n",
       "        [0.        , 0.        , 0.        , 0.        , 0.        ,\n",
       "         0.        , 0.        , 0.        , 0.        , 0.        ],\n",
       "        [0.        , 0.        , 0.        , 0.        , 0.        ,\n",
       "         0.        , 0.        , 0.        , 0.        , 0.        ],\n",
       "        [0.        , 0.        , 0.        , 0.        , 0.        ,\n",
       "         0.        , 0.04109699, 0.        , 0.        , 0.        ]])"
      ]
     },
     "execution_count": 45,
     "metadata": {},
     "output_type": "execute_result"
    }
   ],
   "source": [
    "A.todense()"
   ]
  }
 ],
 "metadata": {
  "kernelspec": {
   "display_name": "Python 3",
   "language": "python",
   "name": "python3"
  },
  "language_info": {
   "codemirror_mode": {
    "name": "ipython",
    "version": 3
   },
   "file_extension": ".py",
   "mimetype": "text/x-python",
   "name": "python",
   "nbconvert_exporter": "python",
   "pygments_lexer": "ipython3",
   "version": "3.9.5"
  }
 },
 "nbformat": 4,
 "nbformat_minor": 4
}
